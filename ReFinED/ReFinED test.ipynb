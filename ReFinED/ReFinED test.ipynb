{
 "cells": [
  {
   "cell_type": "markdown",
   "id": "found-investigator",
   "metadata": {},
   "source": [
    "# ReFinED use case\n",
    "\n",
    "This notebook documents multiple executions of the code in `refined_test.py` and summarizes the main findings.\n",
    "\n",
    "## Conclusions\n",
    "\n",
    "1. Great tool. WSD and entity linking from scratch. NER presupposed.\n",
    "2. Results:\n",
    "   1. **Apparently** good results with the Venice example (invariant entities, conventional entities, general-domain NER and WSD).\n",
    "   2. Massive drop on the titles dataset.\n",
    "      - Possibly due to non-natural text lacking a canonical linguistic input structure for the part of speech tagging and NER processes. As a result, few entities are detected and disambiguated.\n",
    "3. NER is not optimal, tokenizer seems an issue.\n",
    "4. WSD is okay but not impressive.\n",
    "5. Performance (throughout) is not great given the results."
   ]
  },
  {
   "cell_type": "markdown",
   "id": "fatty-college",
   "metadata": {},
   "source": [
    "# Experiments"
   ]
  },
  {
   "cell_type": "markdown",
   "id": "bizarre-square",
   "metadata": {},
   "source": [
    "## _Venice_ text"
   ]
  },
  {
   "cell_type": "code",
   "execution_count": null,
   "id": "executed-disclosure",
   "metadata": {},
   "outputs": [],
   "source": []
  },
  {
   "cell_type": "markdown",
   "id": "relevant-nitrogen",
   "metadata": {},
   "source": [
    "## AI/NLP titles texts"
   ]
  },
  {
   "cell_type": "code",
   "execution_count": null,
   "id": "sensitive-valve",
   "metadata": {},
   "outputs": [],
   "source": []
  },
  {
   "cell_type": "code",
   "execution_count": null,
   "id": "charged-logan",
   "metadata": {},
   "outputs": [],
   "source": []
  }
 ],
 "metadata": {
  "kernelspec": {
   "display_name": "Python 3",
   "language": "python",
   "name": "python3"
  },
  "language_info": {
   "codemirror_mode": {
    "name": "ipython",
    "version": 3
   },
   "file_extension": ".py",
   "mimetype": "text/x-python",
   "name": "python",
   "nbconvert_exporter": "python",
   "pygments_lexer": "ipython3",
   "version": "3.8.19"
  }
 },
 "nbformat": 4,
 "nbformat_minor": 5
}
