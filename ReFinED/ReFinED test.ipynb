{
 "cells": [
  {
   "cell_type": "markdown",
   "id": "found-investigator",
   "metadata": {},
   "source": [
    "# ReFinED use case\n",
    "\n",
    "This notebook documents multiple executions of the code in `refined_test.py` and summarizes the main findings.\n",
    "\n",
    "## Conclusions\n",
    "\n",
    "1. Great tool. WSD and entity linking from scratch. NER presupposed.\n",
    "2. Results:\n",
    "   1. **Apparently** good results with the Venice example (invariant entities, conventional entities, general-domain NER and WSD).\n",
    "   2. Massive drop on the titles dataset.\n",
    "      - Possibly due to non-natural text lacking a canonical linguistic input structure for the part of speech tagging and NER processes. As a result, few entities are detected and disambiguated.\n",
    "3. NER is not optimal, tokenizer seems an issue.\n",
    "4. WSD is okay but not impressive.\n",
    "5. Performance (throughout) is not great given the results."
   ]
  },
  {
   "cell_type": "markdown",
   "id": "fatty-college",
   "metadata": {},
   "source": [
    "# Experiments"
   ]
  },
  {
   "cell_type": "code",
   "execution_count": 100,
   "id": "equivalent-kinase",
   "metadata": {},
   "outputs": [
    {
     "name": "stdout",
     "output_type": "stream",
     "text": [
      "The autoreload extension is already loaded. To reload it, use:\n",
      "  %reload_ext autoreload\n"
     ]
    }
   ],
   "source": [
    "%load_ext autoreload\n",
    "%autoreload"
   ]
  },
  {
   "cell_type": "markdown",
   "id": "hourly-proxy",
   "metadata": {},
   "source": [
    "The `WikipediaAnnotator` class implements an entity extractor that uses fuzzy string matching to retrieve candidate entities from Wikipedia. We expect this to provide a relatively strong baseline but it is uncompetitive as of now, given that it leverages Wikipedia's public search API, which would not be possible in a production environment, as well as cached look-up, which would be acceptable in any production setting but is actually indispensable to run the baseline:"
   ]
  },
  {
   "cell_type": "code",
   "execution_count": 101,
   "id": "killing-rolling",
   "metadata": {},
   "outputs": [],
   "source": [
    "from wikipedia_annotator import WikipediaAnnotator\n",
    "BASELINE = WikipediaAnnotator()"
   ]
  },
  {
   "cell_type": "markdown",
   "id": "desperate-nerve",
   "metadata": {},
   "source": [
    "Target system: ReFinED"
   ]
  },
  {
   "cell_type": "code",
   "execution_count": 102,
   "id": "upper-martin",
   "metadata": {},
   "outputs": [],
   "source": [
    "from refined_test import ReFinED\n",
    "RFED = ReFinED()"
   ]
  },
  {
   "cell_type": "markdown",
   "id": "filled-houston",
   "metadata": {},
   "source": [
    "The test examples are defined in a separate module both for tracking and convenience and are imported in the cell below. These texts have been manually hand-picked and they meet no specific set of selection criteria:"
   ]
  },
  {
   "cell_type": "code",
   "execution_count": 103,
   "id": "neither-pleasure",
   "metadata": {},
   "outputs": [],
   "source": [
    "from texts import TEXT__PAPER_TITLES, TEXT_VENICE"
   ]
  },
  {
   "cell_type": "markdown",
   "id": "bizarre-square",
   "metadata": {},
   "source": [
    "## _Venice_ text"
   ]
  },
  {
   "cell_type": "markdown",
   "id": "alert-parish",
   "metadata": {},
   "source": [
    "Let us check the results for the text about the city of Venice first. We start with the baseline annotation pipeline:"
   ]
  },
  {
   "cell_type": "code",
   "execution_count": 104,
   "id": "third-filing",
   "metadata": {},
   "outputs": [],
   "source": [
    "baseline_entities = BASELINE.extract_terms(TEXT_VENICE)"
   ]
  },
  {
   "cell_type": "code",
   "execution_count": 105,
   "id": "pacific-router",
   "metadata": {},
   "outputs": [
    {
     "name": "stdout",
     "output_type": "stream",
     "text": [
      "From the 9th to the 12th centuries, Venice developed into a powerful maritime empire (an Italian thalassocracy known also as repubblica marinara). In addition to Venice there were seven others: the most important ones were Genoa, Pisa, and Amalfi; and the lesser known were Ragusa, Ancona, Gaeta and Noli. Its own strategic position at the head of the Adriatic made Venetian naval and commercial power almost invulnerable. With the elimination of pirates along the Dalmatian coast, the city became a flourishing trade centre between Western Europe and the rest of the world, especially with the Byzantine Empire and Asia, where its navy protected sea routes against piracy. The Republic of Venice seized a number of places on the eastern shores of the Adriatic before 1200, mostly for commercial reasons, because pirates based there were a menace to trade. The doge already possessed the titles of Duke of Dalmatia and Duke of Istria. Later mainland possessions, which extended across Lake Garda as far west as the Adda River, were known as the Terraferma; they were acquired partly as a buffer against belligerent neighbours, partly to guarantee Alpine trade routes, and partly to ensure the supply of mainland wheat (on which the city depended). In building its maritime commercial empire, Venice dominated the trade in salt, acquired control of most of the islands in the Aegean, including Crete, and Cyprus in the Mediterranean, and became a major power-broker in the Near East. By the standards of the time, Venice's stewardship of its mainland territories was relatively enlightened and the citizens of such towns as Bergamo, Brescia, and Verona rallied to the defence of Venetian sovereignty when it was threatened by invaders.\n"
     ]
    }
   ],
   "source": [
    "print(TEXT_VENICE)"
   ]
  },
  {
   "cell_type": "code",
   "execution_count": 106,
   "id": "clean-nightlife",
   "metadata": {},
   "outputs": [
    {
     "name": "stdout",
     "output_type": "stream",
     "text": [
      "[(36, 42, 'Venice', 'Venice'), (78, 84, 'empire', 'Empire'), (89, 96, 'Italian', 'Italians'), (97, 110, 'thalassocracy', 'Thalassocracy'), (150, 158, 'addition', 'Addition'), (162, 168, 'Venice', 'Venice'), (223, 228, 'Genoa', 'Genoa'), (230, 234, 'Pisa', 'Pisa'), (240, 246, 'Amalfi', 'Amalfi'), (282, 288, 'Ancona', 'Ancona'), (290, 295, 'Gaeta', 'Gaeta'), (300, 304, 'Noli', 'Noli'), (340, 344, 'head', 'Head'), (366, 380, 'Venetian naval', 'Venetian navy'), (465, 474, 'Dalmatian', 'Dalmatia'), (475, 480, 'coast', 'Coast'), (486, 490, 'city', 'City'), (500, 511, 'flourishing', 'Flourishing'), (512, 517, 'trade', 'Trade'), (533, 547, 'Western Europe', 'Western Europe'), (568, 573, 'world', 'World'), (595, 611, 'Byzantine Empire', 'Byzantine Empire'), (616, 620, 'Asia', 'Asia'), (632, 636, 'navy', 'Navy'), (637, 650, 'protected sea', 'ProtectedSeas'), (666, 672, 'piracy', 'Piracy'), (678, 696, 'Republic of Venice', 'Republic of Venice'), (706, 712, 'number', 'Number'), (796, 803, 'reasons', 'Reason'), (850, 855, 'trade', 'Trade'), (888, 894, 'titles', 'Title'), (898, 902, 'Duke', 'Duke'), (906, 914, 'Dalmatia', 'Dalmatia'), (919, 923, 'Duke', 'Duke'), (927, 933, 'Istria', 'Istria'), (941, 949, 'mainland', 'Mainland'), (985, 995, 'Lake Garda', 'Lake Garda'), (1003, 1007, 'west', 'West'), (1015, 1025, 'Adda River', 'Adda (river)'), (1067, 1075, 'acquired', 'Acquire'), (1103, 1114, 'belligerent', 'Belligerent'), (1115, 1125, 'neighbours', 'Neighbours'), (1137, 1146, 'guarantee', 'Guarantee'), (1154, 1166, 'trade routes', 'Trade route'), (1182, 1188, 'ensure', 'Ensure'), (1203, 1211, 'mainland', 'Mainland'), (1212, 1217, 'wheat', 'Wheat'), (1232, 1236, 'city', 'City'), (1251, 1259, 'building', 'Building'), (1284, 1290, 'empire', 'Empire'), (1292, 1298, 'Venice', 'Venice'), (1299, 1308, 'dominated', 'Dominate'), (1313, 1318, 'trade', 'Trade'), (1322, 1326, 'salt', 'Salt'), (1328, 1336, 'acquired', 'Acquire'), (1360, 1367, 'islands', 'Island'), (1393, 1398, 'Crete', 'Crete'), (1404, 1410, 'Cyprus', 'Cyprus'), (1452, 1464, 'power-broker', 'Power broker'), (1472, 1481, 'Near East', 'Near East'), (1507, 1511, 'time', 'Time'), (1513, 1519, 'Venice', 'Venice'), (1522, 1533, 'stewardship', 'Stewardship'), (1541, 1549, 'mainland', 'Mainland'), (1614, 1619, 'towns', 'Town'), (1623, 1630, 'Bergamo', 'Bergamo'), (1632, 1639, 'Brescia', 'Brescia'), (1645, 1651, 'Verona', 'Verona'), (1687, 1698, 'sovereignty', 'Sovereignty')]\n"
     ]
    }
   ],
   "source": [
    "print(baseline_entities)"
   ]
  },
  {
   "cell_type": "code",
   "execution_count": 107,
   "id": "indoor-latest",
   "metadata": {},
   "outputs": [],
   "source": [
    "rfed_entities = RFED.extract_terms(TEXT_VENICE)"
   ]
  },
  {
   "cell_type": "code",
   "execution_count": 108,
   "id": "executed-disclosure",
   "metadata": {},
   "outputs": [
    {
     "name": "stdout",
     "output_type": "stream",
     "text": [
      "[(36, 42, 'Venice', 'Venice'), (89, 96, 'Italian', 'Italy'), (97, 110, 'thalassocracy', 'Thalassocracy'), (125, 144, 'repubblica marinara', 'Maritime republics'), (162, 168, 'Venice', 'Venice'), (223, 228, 'Genoa', 'Genoa'), (230, 234, 'Pisa', 'Pisa'), (240, 246, 'Amalfi', 'Amalfi'), (274, 280, 'Ragusa', 'Ragusa, Sicily'), (282, 288, 'Ancona', 'Ancona'), (290, 295, 'Gaeta', 'Gaeta'), (300, 304, 'Noli', 'Noli'), (352, 360, 'Adriatic', 'Adriatic Sea'), (366, 374, 'Venetian', 'Republic of Venice'), (465, 474, 'Dalmatian', 'Dalmatia'), (533, 547, 'Western Europe', 'Western Europe'), (595, 611, 'Byzantine Empire', 'Byzantine Empire'), (616, 620, 'Asia', 'Asia'), (678, 696, 'Republic of Venice', 'Republic of Venice'), (752, 760, 'Adriatic', 'Adriatic Sea'), (906, 914, 'Dalmatia', 'Dalmatia'), (927, 933, 'Istria', 'Istria'), (985, 995, 'Lake Garda', 'Lake Garda'), (1015, 1025, 'Adda River', 'Adda (river)'), (1045, 1055, 'Terraferma', 'Domini di Terraferma'), (1147, 1153, 'Alpine', 'Alps'), (1292, 1298, 'Venice', 'Venice'), (1375, 1381, 'Aegean', 'Aegean Sea'), (1393, 1398, 'Crete', 'Crete'), (1404, 1410, 'Cyprus', 'Cyprus'), (1418, 1431, 'Mediterranean', 'Mediterranean Sea'), (1468, 1481, 'the Near East', 'Near East'), (1513, 1519, 'Venice', 'Venice'), (1623, 1630, 'Bergamo', 'Bergamo'), (1632, 1639, 'Brescia', 'Brescia'), (1645, 1651, 'Verona', 'Verona'), (1678, 1686, 'Venetian', 'Republic of Venice')]\n"
     ]
    }
   ],
   "source": [
    "print(rfed_entities)"
   ]
  },
  {
   "cell_type": "markdown",
   "id": "relevant-nitrogen",
   "metadata": {},
   "source": [
    "## AI/NLP titles texts"
   ]
  },
  {
   "cell_type": "code",
   "execution_count": 109,
   "id": "sensitive-valve",
   "metadata": {},
   "outputs": [
    {
     "name": "stdout",
     "output_type": "stream",
     "text": [
      "GRAMMAR: Grounded and Modular Evaluation of Domain-Specific Retrieval-Augmented Language Models. Rumour Evaluation with Very Large Language Models. A Legal Framework for Natural Language Processing Model Training in Portugal. Investigating Automatic Scoring and Feedback using Large Language Models. When Quantization Affects Confidence of Large Language Models. Better & Faster Large Language Models via Multi-token Prediction. Self-Refine Instruction-Tuning for Aligning Reasoning in Language Models. Computational Job Market Analysis with Natural Language Processing. A Survey of Generative Search and Recommendation in the Era of Large Language Models. Octopus v4: Graph of language models. Utilizing Large Language Models to Identify Reddit Users Considering Vaping Cessation for Digital Interventions. BMRetriever: Tuning Large Language Models as Better Biomedical Text Retrievers. ChatGPT Is Here to Help, Not to Replace Anybody -- An Evaluation of Students' Opinions On Integrating ChatGPT In CS Courses. Contrastive Learning Method for Sequential Recommendation based on Multi-Intention Disentanglement. MER 2024: Semi-Supervised Learning, Noise Robustness, and Open-Vocabulary Multimodal Emotion Recognition. In-Context Learning with Long-Context Models: An In-Depth Exploration. Structure learning of Hamiltonians from real-time evolution. Koopman-based Deep Learning for Nonlinear System Estimation. A Survey on Deep Active Learning: Recent Advances and New Frontiers. Clover: Regressive Lightweight Speculative Decoding with Sequential Knowledge. New Benchmark Dataset and Fine-Grained Cross-Modal Fusion Framework for Vietnamese Multimodal Aspect-Category Sentiment Analysis. CLARE: Cognitive Load Assessment in REaltime with Multimodal Data. Context-Aware Machine Translation with Source Coreference Explanation. Retrieval-Augmented Generation with Knowledge Graphs for Customer Service Question Answering. Retrieval-Oriented Knowledge for Click-Through Rate Prediction. Gradient-based Automatic Per-Weight Mixed Precision Quantization for Neural Networks On-Chip. Automatic Creative Selection with Cross-Modal Matching. Misaka: Interactive Swarm Testbed for Smart Grid Distributed Algorithm Test and Evaluation. Text Sentiment Analysis and Classification Based on Bidirectional Gated Recurrent Units (GRUs) Model. Derivative-based regularization for regression. NLU-STR at SemEval-2024 Task 1: Generative-based Augmentation and Encoder-based Scoring for Semantic Textual Relatedness. Joint Optimization of Piecewise Linear Ensembles. A Scoping Review on Simulation-based Design Optimization in Marine Engineering: Trends, Best Practices, and Gaps. KVP10k : A Comprehensive Dataset for Key-Value Pair Extraction in Business Documents. Mixture of insighTful Experts (MoTE): The Synergy of Thought Chains and Expert Mixtures in Self-Alignment. M3oE: Multi-Domain Multi-Task Mixture-of Experts Recommendation Framework. The Future of Scientific Publishing: Automated Article Generation. Time Machine GPT. Interest Clock: Time Perception in Real-Time Streaming Recommendation System. Humans prefer interacting with slow, less realistic butterfly simulations. Modeling Orthographic Variation in Occitan's Dialects. InspectorRAGet: An Introspection Platform for RAG Evaluation. Edge Importance in Complex Networks. MMAC-Copilot: Multi-modal Agent Collaboration Operating System Copilot. A Comprehensive Survey of Dynamic Graph Neural Networks: Models, Frameworks, Benchmarks, Experiments and Challenges. GenAI Distortion: The Effect of GenAI Fluency and Positive Affect. Winning the Social Media Influence Battle: Uncertainty-Aware Opinions to Understand and Spread True Information via Competitive Influence Maximization. A Formal Specification of a Data Model for Malaria Surveillance in the Developing World. \"Actually I Can Count My Blessings\": User-Centered Design of an Application to Promote Gratitude Among Young Adults. Exploring Weighted Property Approaches for RDF Graph Similarity Measure. Dynamic Human Trust Modeling of Autonomous Agents With Varying Capability and Strategy. Human-in-the-Loop Synthetic Text Data Inspection with Provenance Tracking. Capabilities\n"
     ]
    }
   ],
   "source": [
    "print(TEXT__PAPER_TITLES)"
   ]
  },
  {
   "cell_type": "code",
   "execution_count": 110,
   "id": "charged-logan",
   "metadata": {},
   "outputs": [],
   "source": [
    "baseline_entities = BASELINE.extract_terms(TEXT__PAPER_TITLES)"
   ]
  },
  {
   "cell_type": "code",
   "execution_count": 111,
   "id": "tight-purple",
   "metadata": {},
   "outputs": [
    {
     "name": "stdout",
     "output_type": "stream",
     "text": [
      "[(0, 7, 'GRAMMAR', 'Grammar'), (30, 40, 'Evaluation', 'Evaluation'), (44, 59, 'Domain-Specific', 'Domain specificity'), (80, 95, 'Language Models', 'Language model'), (97, 103, 'Rumour', 'Rumor'), (104, 114, 'Evaluation', 'Evaluation'), (125, 146, 'Large Language Models', 'Large language model'), (170, 197, 'Natural Language Processing', 'Natural language processing'), (198, 203, 'Model', 'Model'), (204, 212, 'Training', 'Training'), (216, 224, 'Portugal', 'Portugal'), (262, 270, 'Feedback', 'Feedback'), (277, 298, 'Large Language Models', 'Large language model'), (326, 336, 'Confidence', 'Confidence'), (340, 361, 'Large Language Models', 'Large language model'), (379, 400, 'Large Language Models', 'Large language model'), (417, 427, 'Prediction', 'Prediction'), (486, 501, 'Language Models', 'Language model'), (503, 516, 'Computational', 'Computation'), (521, 536, 'Market Analysis', 'Market analysis'), (542, 569, 'Natural Language Processing', 'Natural language processing'), (627, 630, 'Era', 'Era'), (634, 655, 'Large Language Models', 'Large language model'), (657, 664, 'Octopus', 'Octopus'), (678, 693, 'language models', 'Language model'), (705, 726, 'Large Language Models', 'Large language model'), (739, 745, 'Reddit', 'Reddit'), (764, 780, 'Vaping Cessation', 'Vaping cessation'), (828, 849, 'Large Language Models', 'Large language model'), (871, 875, 'Text', 'TEXT'), (876, 886, 'Retrievers', 'Retriever'), (888, 895, 'ChatGPT', 'ChatGPT'), (942, 952, 'Evaluation', 'Evaluation'), (956, 964, 'Students', 'Student'), (966, 974, 'Opinions', 'Opinion'), (990, 997, 'ChatGPT', 'ChatGPT'), (1025, 1033, 'Learning', 'Learning'), (1086, 1095, 'Intention', 'Intention'), (1123, 1147, 'Semi-Supervised Learning', 'Supervised learning'), (1149, 1154, 'Noise', 'NOiSE'), (1149, 1154, 'Noise', 'Noise'), (1155, 1165, 'Robustness', 'Robustness'), (1176, 1186, 'Vocabulary', 'Vocabulary'), (1198, 1217, 'Emotion Recognition', 'Emotion recognition'), (1222, 1229, 'Context', 'ConTeXt'), (1230, 1238, 'Learning', 'Learning'), (1249, 1263, 'Context Models', 'Context model'), (1277, 1288, 'Exploration', 'Exploration'), (1290, 1299, 'Structure', 'Structure'), (1300, 1308, 'learning', 'Learning'), (1335, 1349, 'time evolution', 'Time evolution'), (1351, 1358, 'Koopman', 'Koopman'), (1351, 1358, 'Koopman', 'Koopmans'), (1365, 1378, 'Deep Learning', 'Deep learning'), (1383, 1399, 'Nonlinear System', 'Nonlinear system'), (1400, 1410, 'Estimation', 'Estimation'), (1429, 1444, 'Active Learning', 'Active learning'), (1470, 1479, 'Frontiers', 'Frontier'), (1481, 1487, 'Clover', 'Clover'), (1500, 1511, 'Lightweight', 'Lightweight'), (1549, 1558, 'Knowledge', 'Knowledge'), (1586, 1590, 'Fine', 'FINE'), (1599, 1610, 'Cross-Modal', 'Crossmodal'), (1670, 1688, 'Sentiment Analysis', 'Sentiment analysis'), (1697, 1711, 'Cognitive Load', 'Cognitive load'), (1726, 1734, 'REaltime', 'RealTime'), (1751, 1755, 'Data', 'DATA'), (1751, 1755, 'Data', 'Data'), (1757, 1764, 'Context', 'ConTeXt'), (1771, 1790, 'Machine Translation', 'Machine translation'), (1803, 1814, 'Coreference', 'Coreference'), (1815, 1826, 'Explanation', 'Explanation'), (1848, 1858, 'Generation', 'Generation'), (1864, 1880, 'Knowledge Graphs', 'Knowledge graph'), (1885, 1901, 'Customer Service', 'Customer service'), (1902, 1920, 'Question Answering', 'Question answering'), (1941, 1950, 'Knowledge', 'Knowledge'), (1955, 1973, 'Click-Through Rate', 'Click-through rate'), (1974, 1984, 'Prediction', 'Prediction'), (1986, 1994, 'Gradient', 'Gradient'), (2011, 2014, 'Per', 'PeR'), (2015, 2021, 'Weight', 'Weight'), (2055, 2070, 'Neural Networks', 'Neural network'), (2114, 2125, 'Cross-Modal', 'Crossmodal'), (2136, 2142, 'Misaka', 'Misaka'), (2156, 2161, 'Swarm', 'SWARM'), (2162, 2169, 'Testbed', 'Testbed'), (2174, 2184, 'Smart Grid', 'Smart grid'), (2185, 2206, 'Distributed Algorithm', 'Distributed algorithm'), (2207, 2211, 'Test', '.test'), (2216, 2226, 'Evaluation', 'Evaluation'), (2228, 2232, 'Text', 'TEXT'), (2233, 2251, 'Sentiment Analysis', 'Sentiment analysis'), (2256, 2270, 'Classification', 'Classification'), (2294, 2315, 'Gated Recurrent Units', 'Gated recurrent unit'), (2323, 2328, 'Model', 'Model'), (2330, 2340, 'Derivative', 'Derivative'), (2389, 2396, 'SemEval', 'SemEval'), (2470, 2478, 'Semantic', 'Semantics'), (2500, 2505, 'Joint', 'Joint'), (2522, 2531, 'Piecewise', 'Piecewise'), (2560, 2566, 'Review', 'Review'), (2570, 2580, 'Simulation', 'Simulation'), (2587, 2606, 'Design Optimization', 'Design optimization'), (2610, 2628, 'Marine Engineering', 'Marine engineering'), (2638, 2652, 'Best Practices', 'Best practice'), (2658, 2662, 'Gaps', 'Gaps'), (2701, 2704, 'Key', 'KeY'), (2730, 2738, 'Business', 'Business'), (2739, 2748, 'Documents', 'Document'), (2750, 2757, 'Mixture', 'Mixture'), (2772, 2779, 'Experts', 'Expert'), (2792, 2799, 'Synergy', 'Synergy'), (2803, 2810, 'Thought', 'Thought'), (2811, 2817, 'Chains', 'Chain'), (2822, 2828, 'Expert', 'Expert'), (2829, 2837, 'Mixtures', 'Mixture'), (2887, 2905, 'Mixture-of Experts', 'Mixture of experts'), (2936, 2942, 'Future', 'Future'), (2957, 2967, 'Publishing', 'Publishing'), (2987, 3003, 'Generation. Time', 'Generation time'), (3004, 3011, 'Machine', 'Machine'), (3017, 3025, 'Interest', 'Interest'), (3026, 3031, 'Clock', 'CLOCK'), (3026, 3031, 'Clock', 'Clock'), (3033, 3048, 'Time Perception', 'Time perception'), (3057, 3061, 'Time', 'Time'), (3087, 3093, 'System', 'System'), (3095, 3101, 'Humans', 'Human'), (3147, 3156, 'butterfly', 'Butterfly'), (3157, 3178, 'simulations. Modeling', 'Simulation modeling'), (3205, 3212, 'Occitan', 'Occitans'), (3215, 3223, 'Dialects', 'Dialect'), (3244, 3257, 'Introspection', 'Introspection'), (3258, 3266, 'Platform', 'Platformer'), (3275, 3285, 'Evaluation', 'Evaluation'), (3292, 3302, 'Importance', 'Importance'), (3306, 3322, 'Complex Networks', 'Complex Networks'), (3306, 3322, 'Complex Networks', 'Complex network'), (3356, 3369, 'Collaboration', 'Collaboration'), (3370, 3386, 'Operating System', 'Operating system'), (3430, 3451, 'Graph Neural Networks', 'Graph neural network'), (3453, 3459, 'Models', 'Model'), (3485, 3496, 'Experiments', 'Experiment'), (3519, 3529, 'Distortion', 'Distortion'), (3551, 3558, 'Fluency', 'Fluency'), (3592, 3604, 'Social Media', 'Social media'), (3615, 3621, 'Battle', 'Battle'), (3623, 3634, 'Uncertainty', 'Uncertainty'), (3641, 3649, 'Opinions', 'Opinion'), (3653, 3663, 'Understand', 'Understand?'), (3680, 3691, 'Information', 'Information'), (3734, 3754, 'Formal Specification', 'Formal specification'), (3760, 3770, 'Data Model', 'Data model'), (3775, 3782, 'Malaria', 'Malaria'), (3775, 3782, 'Malaria', 'Malaria!'), (3783, 3795, 'Surveillance', 'Surveillance'), (3814, 3819, 'World', 'World'), (3837, 3842, 'Count', 'Count'), (3846, 3855, 'Blessings', 'Blessing'), (3858, 3878, 'User-Centered Design', 'Use-centered design'), (3858, 3878, 'User-Centered Design', 'User-centered design'), (3908, 3917, 'Gratitude', 'Gratitude'), (3924, 3936, 'Young Adults', 'Young adult'), (3957, 3965, 'Property', 'Property'), (3991, 4009, 'Similarity Measure', 'Similarity measure'), (4019, 4030, 'Human Trust', 'Human Trust'), (4043, 4060, 'Autonomous Agents', 'Autonomous agent'), (4089, 4097, 'Strategy', 'Strategy'), (4089, 4097, 'Strategy', 'Strategy&'), (4099, 4104, 'Human', 'Human'), (4127, 4131, 'Text', 'TEXT'), (4132, 4136, 'Data', 'DATA'), (4132, 4136, 'Data', 'Data'), (4137, 4147, 'Inspection', 'Inspection'), (4153, 4163, 'Provenance', 'Provenance')]\n"
     ]
    }
   ],
   "source": [
    "print(baseline_entities)"
   ]
  },
  {
   "cell_type": "code",
   "execution_count": 112,
   "id": "moral-romania",
   "metadata": {},
   "outputs": [],
   "source": [
    "rfed_entities_paper = RFED.extract_terms(TEXT__PAPER_TITLES)"
   ]
  },
  {
   "cell_type": "code",
   "execution_count": 113,
   "id": "ordered-medicine",
   "metadata": {},
   "outputs": [
    {
     "name": "stdout",
     "output_type": "stream",
     "text": [
      "[(0, 7, 'GRAMMAR', 'Grammar'), (156, 165, 'Framework', 'Software framework'), (216, 224, 'Portugal', 'Portugal'), (542, 569, 'Natural Language Processing', 'Natural language processing'), (739, 745, 'Reddit', 'Reddit'), (815, 819, 'ever', 'EveR'), (1312, 1324, 'Hamiltonians', 'Hamiltonian (quantum mechanics)'), (1632, 1642, 'Vietnamese', 'Vietnamese language'), (1730, 1734, 'time', 'Time (magazine)'), (1757, 1764, 'Context', 'Context (language use)'), (1807, 1814, 'ference', 'Ference Marton'), (1955, 1960, 'Click', 'Click analytics'), (2120, 2123, 'Mod', 'Modding'), (2126, 2134, 'Matching', 'Matching (graph theory)'), (2180, 2184, 'Grid', 'Regular grid'), (2216, 2226, 'Evaluation', 'Evaluation'), (2545, 2548, 'les', 'Large eddy simulation'), (2617, 2628, 'Engineering', 'Engineering'), (2979, 2986, 'Article', 'Article (publishing)'), (3205, 3212, 'Occitan', 'Occitan language'), (3314, 3322, 'Networks', 'Computer network'), (3390, 3394, 'ilot', 'Aircraft pilot'), (3765, 3770, 'Model', 'Model (person)'), (3778, 3782, 'aria', 'Aria'), (3803, 3819, 'Developing World', 'Developing country'), (4099, 4104, 'Human', 'Human')]\n"
     ]
    }
   ],
   "source": [
    "print(rfed_entities_paper)"
   ]
  },
  {
   "cell_type": "code",
   "execution_count": null,
   "id": "excessive-fountain",
   "metadata": {},
   "outputs": [],
   "source": []
  }
 ],
 "metadata": {
  "kernelspec": {
   "display_name": "refined",
   "language": "python",
   "name": "refined"
  },
  "language_info": {
   "codemirror_mode": {
    "name": "ipython",
    "version": 3
   },
   "file_extension": ".py",
   "mimetype": "text/x-python",
   "name": "python",
   "nbconvert_exporter": "python",
   "pygments_lexer": "ipython3",
   "version": "3.11.0"
  }
 },
 "nbformat": 4,
 "nbformat_minor": 5
}
