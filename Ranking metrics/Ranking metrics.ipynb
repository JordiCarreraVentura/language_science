{
 "cells": [
  {
   "cell_type": "markdown",
   "id": "f8a28a45-1759-44aa-966a-c77bec19b6de",
   "metadata": {},
   "source": [
    "# Ranking metrics\n",
    "\n",
    "1. [Online metrics](#online-metrics)\n",
    "   1. [Hit Ratio](#hit-ratio)\n",
    "2. [Offline metrics](#offline-metrics)\n",
    "   1. [Reciprocal Rank and Mean Reciprocal Rank](#reciprocal-rank-and-mean-reciprocal-rank)\n",
    "   2. [Mean Average Precision](#mean-average-precision-map)\n",
    "3. [Examples](#examples)\n",
    "4. [References](#references)"
   ]
  },
  {
   "cell_type": "markdown",
   "id": "eefb2e35-e938-47e2-b7c2-a836211ef47f",
   "metadata": {},
   "source": [
    "## Online metrics"
   ]
  },
  {
   "cell_type": "markdown",
   "id": "9330f9d8-9903-478e-aa4a-9e7846613866",
   "metadata": {},
   "source": [
    "### Hit Ratio\n",
    "\n",
    "[Source 1](#reference_1)\n",
    "\n",
    "> the fraction of users for which the correct answer is included in the recommendation list of length $L$.\n",
    "\n",
    "$D = \\text{the superset containing every set of recommendations }d\\text{ served to a user, such that }|d| = L$\n",
    "\n",
    "$y = \\text{the correct answer}$\n",
    "\n",
    "$$HR_L = \\frac{|d: d \\in D \\land y \\in d|}{|D|}$$\n",
    "\n",
    "**NOTE**: $L$ is a parameter."
   ]
  },
  {
   "cell_type": "markdown",
   "id": "18d35c4a-c719-46b6-a51e-1e508b8a1b8d",
   "metadata": {},
   "source": [
    "## Offline metrics"
   ]
  },
  {
   "cell_type": "markdown",
   "id": "daec4d19-5199-40ab-ad6f-81e1c7a3f509",
   "metadata": {},
   "source": [
    "### Reciprocal Rank and Mean Reciprocal Rank\n",
    "\n",
    "[Source 1](#reference_1), [Back to top](#ranking-metrics)\n",
    "\n",
    "$D = \\text{the superset containing every ranked set of recommendations }d\\text{ served to a user, such that }|d| = L$\n",
    "\n",
    "$$RR(d) = \\sum\\limits_{i: 1 ≤ i ≤ L} \\frac{relevance_i}{rank_i}$$\n",
    "\n",
    "$$MRR(D) = \\frac{ \\sum\\limits_{i = 1}^{|D|} RR(D_i) }{|D|} $$\n",
    "\n",
    "**NOTE**: _one could argue that hit ratio is actually a special case of MRR in which RR(d) is binary, as it becomes 1 if there is a relevant item in the list, 0 otherwise._"
   ]
  },
  {
   "cell_type": "markdown",
   "id": "80531ea4-5dfb-431d-b8d8-499e8fc29fe2",
   "metadata": {},
   "source": [
    "### Mean Average Precision (MAP)\n",
    "\n",
    "[Source 1](#reference_1), [Back to top](#ranking-metrics)\n",
    "\n",
    "$K = \\text{the maximum number of top elements we want to consider}$\n",
    "\n",
    "$k = \\text{the number of top elements we want to consider to calculate metrics such that } 1 ≤ k ≤ K$\n",
    "\n",
    "$D = \\text{the superset containing every ranked list of recommendations }d\\text{ served to a user, such that }|d| = k$\n",
    "\n",
    "$$AP(D_i) = \\sum\\limits_{k = 1}^{K} \\text{Precision@}k(D_i) \\times RelevanceMask_i$$\n",
    "\n",
    "$$MAP(D) = \\frac{\\sum\\limits_{i = 1}^{|D|} AP(D_i)}{|D|}$$"
   ]
  },
  {
   "cell_type": "markdown",
   "id": "2db0b09d-df0e-4cd9-b8a2-666b875b1bff",
   "metadata": {},
   "source": [
    "### Normalized Discounted Cumulative Gain\n",
    "\n",
    "[Source](https://towardsdatascience.com/normalized-discounted-cumulative-gain-ndcg-the-ultimate-ranking-metric-437b03529f75), [Back to top](#ranking-metrics)"
   ]
  },
  {
   "cell_type": "markdown",
   "id": "a64d995d-a7ad-4c47-bc0a-425557a90a18",
   "metadata": {},
   "source": [
    "#### Cumulative Gain (CG)\n",
    "\n",
    "> The **.cumulative gain** is the sum of the relevance scores of items in the list.\n",
    "\n",
    "$$CG = \\sum\\limits_{i = 1}^{K} \\text{relevance}(K_i)$$\n",
    "\n",
    "> If you’re computing NDCG@10, CG@10 will be 12 for both lists.\n",
    "> \n",
    "> If you’re computing NDCG@5, CG@5 for Model A is 7, and for Model B is 10\n",
    "\n",
    "#### Discount Factor (DF)\n",
    "\n",
    "> The **discount factor** involves using a logarithmic discounting factor to perform a weighted sum of the relevance scores of items in the list. The discounting factor is weighted based on the item’s position in the list.\n",
    "\n",
    "It is based on the same intuition as the reciprocal rank but it is smoothed by the use of the logarithm: for the item in the 10th rank, instead of computing the score as $1 / 10$ (the reciprocal rank), we calculate it as $1 / log(10)$, which means that the denominator is smaller and the result, therfore, higher. So, while we still penalize higher ranks, we are not penalizing them as much as the reciprocal rank, probably reflecting the intuition that _there is not a single correct answer_, as well as smoothing out/squeezing together potential anomalies in the scoring function.\n",
    "\n",
    "$$DF = \\frac{1}{log_2(1 + i)}$$\n",
    "\n",
    "\n",
    "#### Normalization constant\n",
    "\n",
    "> We want to normalize the model’s DCG by dividing it by the DCG obtained by an ideal ranker.\n",
    "> \n",
    "> An ideal ranks the items in descending order of relevance scores.\n",
    "\n",
    "\n",
    "#### Normalized Discounted Cumulative Gain\n",
    "\n",
    "$\\text{Candidate Discounted Cumulative Gain} = \\text{DCG over relevance scores calculated after sorting by either model's score, and selecting the top }k$\n",
    "\n",
    "$$DCG_k = \\sum\\limits_{i = 1}^{k} \\frac{relevance(Y_i)}{log_2 (1 + i)}$$\n",
    "\n",
    "$\\text{Ideal Discounted Cumulative Gain} = \\text{DCG calculated after sorting by relevance instead of either model's score}$\n",
    "\n",
    "$$DCG_k = \\sum\\limits_{i = 1}^{k} \\frac{relevance_i}{log_2 (1 + i)}$$\n",
    "\n",
    "$$NDCG = \\frac{\\text{Candidate Discounted Cumulative Gain}}{\\text{Ideal Discounted Cumulative Gain}}$$"
   ]
  },
  {
   "cell_type": "markdown",
   "id": "ca2fb03f-bab8-4b4f-b04c-e887fbbe6d4a",
   "metadata": {},
   "source": [
    "# Examples\n",
    "\n",
    "[Back to top](#ranking-metrics)"
   ]
  },
  {
   "cell_type": "markdown",
   "id": "ea562f1c-58af-4128-a29b-93d13db9fc62",
   "metadata": {},
   "source": [
    "### MAP @ k"
   ]
  },
  {
   "cell_type": "code",
   "execution_count": 202,
   "id": "a09e53a1-37bd-4460-9bc4-1b7c1bb1b0e9",
   "metadata": {},
   "outputs": [
    {
     "name": "stdout",
     "output_type": "stream",
     "text": [
      "[1, 4, 6, 9, 8, 2, 0, 3, 7, 5]\n",
      "[1, 4, 6, 9, 8, 2, 0, 3, 7, 5]\n",
      "{1: 1, 4: 1, 6: 1, 9: 1, 8: 1, 2: 0, 0: 0, 3: 0, 7: 0, 5: 0}\n",
      "\n",
      "[9, 6, 8, 4, 5, 1, 7, 3, 0, 2]\n",
      "[9, 6, 8, 4, 5, 1, 7, 3, 0, 2]\n",
      "{9: 1, 6: 1, 8: 1, 4: 1, 5: 1, 1: 0, 7: 0, 3: 0, 0: 0, 2: 0}\n",
      "\n",
      "[1, 0, 7, 6, 8, 9, 5, 4, 3, 2]\n",
      "[1, 0, 7, 6, 8, 9, 5, 4, 3, 2]\n",
      "{1: 1, 0: 1, 7: 1, 6: 1, 8: 1, 9: 0, 5: 0, 4: 0, 3: 0, 2: 0}\n",
      "\n",
      "[9, 4, 6, 2, 0, 3, 7, 1, 5, 8]\n",
      "[9, 4, 6, 2, 0, 3, 7, 1, 5, 8]\n",
      "{9: 1, 4: 1, 6: 1, 2: 1, 0: 1, 3: 0, 7: 0, 1: 0, 5: 0, 8: 0}\n",
      "\n",
      "[8, 9, 5, 3, 6, 2, 4, 0, 1, 7]\n",
      "[7, 3, 9, 5, 8, 6, 2, 4, 0, 1]\n",
      "{8: 1, 9: 1, 5: 1, 3: 1, 6: 1, 2: 0, 4: 0, 0: 0, 1: 0, 7: 0}\n",
      "\n",
      "[6, 4, 5, 0, 9, 1, 7, 2, 3, 8]\n",
      "[6, 4, 5, 0, 9, 1, 7, 2, 3, 8]\n",
      "{6: 1, 4: 1, 5: 1, 0: 1, 9: 1, 1: 0, 7: 0, 2: 0, 3: 0, 8: 0}\n",
      "\n",
      "[3, 9, 7, 6, 1, 5, 0, 8, 4, 2]\n",
      "[3, 9, 7, 6, 1, 5, 0, 8, 4, 2]\n",
      "{3: 1, 9: 1, 7: 1, 6: 1, 1: 1, 5: 0, 0: 0, 8: 0, 4: 0, 2: 0}\n",
      "\n",
      "[7, 4, 2, 5, 3, 0, 8, 6, 1, 9]\n",
      "[7, 4, 2, 5, 3, 0, 8, 6, 1, 9]\n",
      "{7: 1, 4: 1, 2: 1, 5: 1, 3: 1, 0: 0, 8: 0, 6: 0, 1: 0, 9: 0}\n",
      "\n",
      "[2, 9, 4, 0, 6, 7, 8, 5, 1, 3]\n",
      "[5, 2, 0, 1, 8, 9, 3, 6, 4, 7]\n",
      "{2: 1, 9: 1, 4: 1, 0: 1, 6: 1, 7: 0, 8: 0, 5: 0, 1: 0, 3: 0}\n",
      "\n",
      "[1, 5, 8, 3, 4, 0, 9, 2, 7, 6]\n",
      "[1, 5, 8, 3, 4, 0, 9, 2, 7, 6]\n",
      "{1: 1, 5: 1, 8: 1, 3: 1, 4: 1, 0: 0, 9: 0, 2: 0, 7: 0, 6: 0}\n",
      "\n"
     ]
    }
   ],
   "source": [
    "import random\n",
    "movies = list(range(10))\n",
    "n_users = 10\n",
    "n_relevant = 5\n",
    "\n",
    "get_preferences = lambda x: random.sample(movies, len(movies))\n",
    "\n",
    "movie_preferences = [\n",
    "    get_preferences(u)\n",
    "    for u in range(n_users)\n",
    "]\n",
    "\n",
    "relevance_masks = []\n",
    "for mvps in movie_preferences:\n",
    "    relevance_mask = dict([])\n",
    "    for idx, mvp in enumerate(mvps):\n",
    "        if idx < n_relevant:\n",
    "            relevance_mask[mvp] = 1\n",
    "        else:\n",
    "            relevance_mask[mvp] = 0\n",
    "    relevance_masks.append(relevance_mask)\n",
    "\n",
    "accuracy = 0.8\n",
    "movie_recommendations = [\n",
    "    preferences if random.random() < accuracy\n",
    "    else random.sample(preferences, len(preferences))\n",
    "    for preferences in movie_preferences\n",
    "]\n",
    "\n",
    "for rm, mv, mr in zip(relevance_masks, movie_preferences, movie_recommendations):\n",
    "    print(mv)\n",
    "    print(mr)\n",
    "    print(rm)\n",
    "    print()"
   ]
  },
  {
   "cell_type": "code",
   "execution_count": 203,
   "id": "da63339f-cfe1-4a7f-97e0-76be9dc705de",
   "metadata": {},
   "outputs": [],
   "source": [
    "def metric_at_k(denom, y_true, y_pred, k=2, relevance_masks=[], rounding=4):\n",
    "    tp = 0\n",
    "    p = 0\n",
    "    t = 0\n",
    "    if relevance_masks:\n",
    "        for preferences, recommendations, relevance_mask in zip(y_true, y_pred, relevance_masks):\n",
    "            expected = {mv for mv in preferences[:k] if relevance_mask[mv]}\n",
    "            predicted = {mv for mv in recommendations[:k] if relevance_mask[mv]}\n",
    "            true_positives = expected.intersection(predicted)\n",
    "            tp += len(true_positives)\n",
    "            p += k\n",
    "            t += sum(relevance_mask.values())\n",
    "    else:\n",
    "        for preferences, recommendations in zip(y_true, y_pred):\n",
    "            expected = {mv for mv in preferences[:k]}\n",
    "            predicted = {mv for mv in recommendations[:k]}\n",
    "            true_positives = expected.intersection(predicted)\n",
    "            tp += len(true_positives)\n",
    "            p += k\n",
    "            t += len(expected)\n",
    "    return round(tp / p if denom == 'precision' else tp / t, rounding)\n",
    "\n",
    "def precision_at_k(y_true, y_pred, k=2, relevance_masks=[], rounding=4):\n",
    "   return metric_at_k('precision', y_true, y_pred, k=k, relevance_masks=relevance_masks, rounding=rounding)\n",
    "\n",
    "def recall_at_k(y_true, y_pred, k=2, relevance_masks=[], rounding=4):\n",
    "   return metric_at_k('recall', y_true, y_pred, k=k, relevance_masks=relevance_masks, rounding=rounding)\n"
   ]
  },
  {
   "cell_type": "code",
   "execution_count": 204,
   "id": "e1d44e62-e31b-4df4-be29-e0a0c473ce56",
   "metadata": {},
   "outputs": [
    {
     "name": "stdout",
     "output_type": "stream",
     "text": [
      "0.925\n",
      "0.925\n",
      "0.74\n"
     ]
    }
   ],
   "source": [
    "print(precision_at_k(movie_preferences, movie_recommendations, 4))\n",
    "print(recall_at_k(movie_preferences, movie_recommendations, 4))\n",
    "print(recall_at_k(movie_preferences, movie_recommendations, 4, relevance_masks))"
   ]
  },
  {
   "cell_type": "markdown",
   "id": "4aa64620-0597-451b-9634-cf444b532272",
   "metadata": {},
   "source": [
    "#### Normalized Discounted Cumulative Gain"
   ]
  },
  {
   "cell_type": "code",
   "execution_count": 205,
   "id": "fe0a5285-00d4-43d6-955d-61f9ac585e15",
   "metadata": {},
   "outputs": [],
   "source": [
    "from math import log\n",
    "import random\n",
    "from typing import Iterable, Union\n",
    "\n",
    "import pandas as pd"
   ]
  },
  {
   "cell_type": "code",
   "execution_count": 206,
   "id": "88926282-fd81-494c-bdb7-acc1cb7cc9c1",
   "metadata": {},
   "outputs": [],
   "source": [
    "def normalized_discounted_cumulative_gain(df: pd.DataFrame, column_name: str, k: int) -> float:\n",
    "    if not isinstance(df, pd.DataFrame):\n",
    "        raise TypeError(type(df), pd.DataFrame)\n",
    "    if not k:\n",
    "        k = df.shape[0]\n",
    "\n",
    "    # --- dcg ---\n",
    "    _df = df.sort_values(column_name, ascending=True if column_name != \"relevance\" else False).head(k)\n",
    "    _df.discount_factor = [1 / log(1 + idx + 1) for idx in range(_df.shape[0])]\n",
    "    dcg = (_df.relevance / df.discount_factor).sum()\n",
    "\n",
    "    # --- idcg ---\n",
    "    df.sort_values(\"relevance\", ascending=False)\n",
    "    df.discount_factor = [1 / log(1 + idx + 1) for idx in range(df.shape[0])]\n",
    "    idcg = (df.head(k).relevance / df.head(k).discount_factor).sum()\n",
    "    \n",
    "    return dcg / idcg"
   ]
  },
  {
   "cell_type": "code",
   "execution_count": 207,
   "id": "c7d82b08-91da-48e6-97bc-5f46243e854f",
   "metadata": {},
   "outputs": [],
   "source": [
    "relevance_by_action = {\n",
    "    \"Viewed\": 0,\n",
    "    \"Clicked\": 1,\n",
    "    \"Shared\": 2,\n",
    "    \"AddedToCart\": 3,\n",
    "    \"Ordered\": 4,\n",
    "}\n",
    "\n",
    "actions = list(relevance_by_action.keys())\n",
    "item_ids = list(range(10))\n",
    "\n",
    "event_items = [random.choice(item_ids) for _ in range(100)]\n",
    "event_actions = [random.choice(actions) for _ in event_items]\n",
    "\n",
    "events = []\n",
    "for item, action in zip(event_items, event_actions):\n",
    "    event = (\n",
    "        item,\n",
    "        action,\n",
    "        relevance_by_action[action],\n",
    "        round(((5 / (relevance_by_action[action] + 1)) / 10) if random.random() >= 0.2 else random.uniform(0, 1.0), 2),\n",
    "        round(random.uniform(0, 1.0), 2)\n",
    "    )\n",
    "    events.append(event)\n",
    "\n",
    "df = pd.DataFrame(events, columns=[\"item\", \"action\", \"relevance\", \"model_a\", \"model_b\"])\n",
    "df[\"discount_factor\"] = discount_factor(df.sort_values(\"relevance\").relevance)\n",
    "\n",
    "df_model_a = df.copy().drop(\"model_b\", axis=1).sort_values(\"model_a\", ascending=True)\n",
    "df_model_b = df.copy().drop(\"model_a\", axis=1).sort_values(\"model_b\", ascending=True)\n",
    "df_ideal = df.copy().drop([\"model_a\", \"model_b\"], axis=1).sort_values(\"relevance\", ascending=False)"
   ]
  },
  {
   "cell_type": "code",
   "execution_count": 208,
   "id": "b711ea13-8af4-492f-8b66-38c077d660a2",
   "metadata": {},
   "outputs": [
    {
     "data": {
      "text/html": [
       "<div>\n",
       "<style scoped>\n",
       "    .dataframe tbody tr th:only-of-type {\n",
       "        vertical-align: middle;\n",
       "    }\n",
       "\n",
       "    .dataframe tbody tr th {\n",
       "        vertical-align: top;\n",
       "    }\n",
       "\n",
       "    .dataframe thead th {\n",
       "        text-align: right;\n",
       "    }\n",
       "</style>\n",
       "<table border=\"1\" class=\"dataframe\">\n",
       "  <thead>\n",
       "    <tr style=\"text-align: right;\">\n",
       "      <th></th>\n",
       "      <th>item</th>\n",
       "      <th>action</th>\n",
       "      <th>relevance</th>\n",
       "      <th>model_a</th>\n",
       "      <th>discount_factor</th>\n",
       "    </tr>\n",
       "  </thead>\n",
       "  <tbody>\n",
       "    <tr>\n",
       "      <th>20</th>\n",
       "      <td>5</td>\n",
       "      <td>Ordered</td>\n",
       "      <td>4</td>\n",
       "      <td>0.1</td>\n",
       "      <td>0.323515</td>\n",
       "    </tr>\n",
       "    <tr>\n",
       "      <th>46</th>\n",
       "      <td>7</td>\n",
       "      <td>AddedToCart</td>\n",
       "      <td>3</td>\n",
       "      <td>0.1</td>\n",
       "      <td>0.258318</td>\n",
       "    </tr>\n",
       "    <tr>\n",
       "      <th>47</th>\n",
       "      <td>6</td>\n",
       "      <td>Ordered</td>\n",
       "      <td>4</td>\n",
       "      <td>0.1</td>\n",
       "      <td>0.256949</td>\n",
       "    </tr>\n",
       "    <tr>\n",
       "      <th>32</th>\n",
       "      <td>5</td>\n",
       "      <td>Ordered</td>\n",
       "      <td>4</td>\n",
       "      <td>0.1</td>\n",
       "      <td>0.283578</td>\n",
       "    </tr>\n",
       "    <tr>\n",
       "      <th>50</th>\n",
       "      <td>9</td>\n",
       "      <td>Ordered</td>\n",
       "      <td>4</td>\n",
       "      <td>0.1</td>\n",
       "      <td>0.253085</td>\n",
       "    </tr>\n",
       "  </tbody>\n",
       "</table>\n",
       "</div>"
      ],
      "text/plain": [
       "    item       action  relevance  model_a  discount_factor\n",
       "20     5      Ordered          4      0.1         0.323515\n",
       "46     7  AddedToCart          3      0.1         0.258318\n",
       "47     6      Ordered          4      0.1         0.256949\n",
       "32     5      Ordered          4      0.1         0.283578\n",
       "50     9      Ordered          4      0.1         0.253085"
      ]
     },
     "execution_count": 208,
     "metadata": {},
     "output_type": "execute_result"
    }
   ],
   "source": [
    "df_model_a.head()"
   ]
  },
  {
   "cell_type": "code",
   "execution_count": 209,
   "id": "9bbc0fb8-cd21-4b4b-b196-914687638e7b",
   "metadata": {},
   "outputs": [
    {
     "data": {
      "text/html": [
       "<div>\n",
       "<style scoped>\n",
       "    .dataframe tbody tr th:only-of-type {\n",
       "        vertical-align: middle;\n",
       "    }\n",
       "\n",
       "    .dataframe tbody tr th {\n",
       "        vertical-align: top;\n",
       "    }\n",
       "\n",
       "    .dataframe thead th {\n",
       "        text-align: right;\n",
       "    }\n",
       "</style>\n",
       "<table border=\"1\" class=\"dataframe\">\n",
       "  <thead>\n",
       "    <tr style=\"text-align: right;\">\n",
       "      <th></th>\n",
       "      <th>item</th>\n",
       "      <th>action</th>\n",
       "      <th>relevance</th>\n",
       "      <th>model_b</th>\n",
       "      <th>discount_factor</th>\n",
       "    </tr>\n",
       "  </thead>\n",
       "  <tbody>\n",
       "    <tr>\n",
       "      <th>21</th>\n",
       "      <td>7</td>\n",
       "      <td>Clicked</td>\n",
       "      <td>1</td>\n",
       "      <td>0.01</td>\n",
       "      <td>0.318929</td>\n",
       "    </tr>\n",
       "    <tr>\n",
       "      <th>77</th>\n",
       "      <td>2</td>\n",
       "      <td>Shared</td>\n",
       "      <td>2</td>\n",
       "      <td>0.03</td>\n",
       "      <td>0.228862</td>\n",
       "    </tr>\n",
       "    <tr>\n",
       "      <th>69</th>\n",
       "      <td>8</td>\n",
       "      <td>AddedToCart</td>\n",
       "      <td>3</td>\n",
       "      <td>0.03</td>\n",
       "      <td>0.234594</td>\n",
       "    </tr>\n",
       "    <tr>\n",
       "      <th>26</th>\n",
       "      <td>3</td>\n",
       "      <td>AddedToCart</td>\n",
       "      <td>3</td>\n",
       "      <td>0.05</td>\n",
       "      <td>0.300102</td>\n",
       "    </tr>\n",
       "    <tr>\n",
       "      <th>24</th>\n",
       "      <td>8</td>\n",
       "      <td>Viewed</td>\n",
       "      <td>0</td>\n",
       "      <td>0.05</td>\n",
       "      <td>0.306928</td>\n",
       "    </tr>\n",
       "  </tbody>\n",
       "</table>\n",
       "</div>"
      ],
      "text/plain": [
       "    item       action  relevance  model_b  discount_factor\n",
       "21     7      Clicked          1     0.01         0.318929\n",
       "77     2       Shared          2     0.03         0.228862\n",
       "69     8  AddedToCart          3     0.03         0.234594\n",
       "26     3  AddedToCart          3     0.05         0.300102\n",
       "24     8       Viewed          0     0.05         0.306928"
      ]
     },
     "execution_count": 209,
     "metadata": {},
     "output_type": "execute_result"
    }
   ],
   "source": [
    "df_model_b.head()"
   ]
  },
  {
   "cell_type": "code",
   "execution_count": 210,
   "id": "8dd5227b-e746-492a-b361-ad2dd7027374",
   "metadata": {},
   "outputs": [
    {
     "name": "stdout",
     "output_type": "stream",
     "text": [
      "1.0 1.0 1.0\n",
      "3.707535015463046 2.488451270660452 3.9773980299904035\n"
     ]
    }
   ],
   "source": [
    "print(\n",
    "    normalized_discounted_cumulative_gain(df, \"model_a\", 10000),\n",
    "    normalized_discounted_cumulative_gain(df, \"model_b\", 10000),\n",
    "    normalized_discounted_cumulative_gain(df, \"relevance\", 10000)\n",
    ")\n",
    "print(\n",
    "    normalized_discounted_cumulative_gain(df, \"model_a\", 10),\n",
    "    normalized_discounted_cumulative_gain(df, \"model_b\", 10),\n",
    "    normalized_discounted_cumulative_gain(df, \"relevance\", 10)\n",
    ")"
   ]
  },
  {
   "cell_type": "code",
   "execution_count": 211,
   "id": "28f3e402-e521-4600-bf32-6c0e13d2651d",
   "metadata": {
    "scrolled": true
   },
   "outputs": [
    {
     "data": {
      "text/html": [
       "<div>\n",
       "<style scoped>\n",
       "    .dataframe tbody tr th:only-of-type {\n",
       "        vertical-align: middle;\n",
       "    }\n",
       "\n",
       "    .dataframe tbody tr th {\n",
       "        vertical-align: top;\n",
       "    }\n",
       "\n",
       "    .dataframe thead th {\n",
       "        text-align: right;\n",
       "    }\n",
       "</style>\n",
       "<table border=\"1\" class=\"dataframe\">\n",
       "  <thead>\n",
       "    <tr style=\"text-align: right;\">\n",
       "      <th></th>\n",
       "      <th>item</th>\n",
       "      <th>action</th>\n",
       "      <th>relevance</th>\n",
       "      <th>discount_factor</th>\n",
       "      <th>factor</th>\n",
       "    </tr>\n",
       "  </thead>\n",
       "  <tbody>\n",
       "    <tr>\n",
       "      <th>50</th>\n",
       "      <td>9</td>\n",
       "      <td>Ordered</td>\n",
       "      <td>4</td>\n",
       "      <td>0.253085</td>\n",
       "      <td>1.442695</td>\n",
       "    </tr>\n",
       "    <tr>\n",
       "      <th>32</th>\n",
       "      <td>5</td>\n",
       "      <td>Ordered</td>\n",
       "      <td>4</td>\n",
       "      <td>0.283578</td>\n",
       "      <td>0.910239</td>\n",
       "    </tr>\n",
       "    <tr>\n",
       "      <th>22</th>\n",
       "      <td>5</td>\n",
       "      <td>Ordered</td>\n",
       "      <td>4</td>\n",
       "      <td>0.314658</td>\n",
       "      <td>0.721348</td>\n",
       "    </tr>\n",
       "    <tr>\n",
       "      <th>23</th>\n",
       "      <td>1</td>\n",
       "      <td>Ordered</td>\n",
       "      <td>4</td>\n",
       "      <td>0.310667</td>\n",
       "      <td>0.621335</td>\n",
       "    </tr>\n",
       "    <tr>\n",
       "      <th>85</th>\n",
       "      <td>8</td>\n",
       "      <td>Ordered</td>\n",
       "      <td>4</td>\n",
       "      <td>0.223919</td>\n",
       "      <td>0.558111</td>\n",
       "    </tr>\n",
       "  </tbody>\n",
       "</table>\n",
       "</div>"
      ],
      "text/plain": [
       "    item   action  relevance  discount_factor    factor\n",
       "50     9  Ordered          4         0.253085  1.442695\n",
       "32     5  Ordered          4         0.283578  0.910239\n",
       "22     5  Ordered          4         0.314658  0.721348\n",
       "23     1  Ordered          4         0.310667  0.621335\n",
       "85     8  Ordered          4         0.223919  0.558111"
      ]
     },
     "execution_count": 211,
     "metadata": {},
     "output_type": "execute_result"
    }
   ],
   "source": [
    "df_ideal[\"factor\"] = discount_factor(df_ideal[\"item\"])\n",
    "df_ideal.head()"
   ]
  },
  {
   "cell_type": "markdown",
   "id": "b6d9362e-d31b-4e3a-a3e0-a495e723782a",
   "metadata": {},
   "source": [
    "# References\n",
    "\n",
    "[Back to top](#ranking-metrics)\n",
    "\n",
    "1. <a id=\"reference_1\"></a> [Ranking Evaluation Metrics for Recommender Systems](https://towardsdatascience.com/ranking-evaluation-metrics-for-recommender-systems-263d0a66ef54)\n",
    "2. <a id=\"reference_2\"></a>[Demystifying NDCG](https://towardsdatascience.com/demystifying-ndcg-bee3be58cfe0)"
   ]
  }
 ],
 "metadata": {
  "kernelspec": {
   "display_name": "Python 3 (ipykernel)",
   "language": "python",
   "name": "python3"
  },
  "language_info": {
   "codemirror_mode": {
    "name": "ipython",
    "version": 3
   },
   "file_extension": ".py",
   "mimetype": "text/x-python",
   "name": "python",
   "nbconvert_exporter": "python",
   "pygments_lexer": "ipython3",
   "version": "3.11.0"
  }
 },
 "nbformat": 4,
 "nbformat_minor": 5
}
