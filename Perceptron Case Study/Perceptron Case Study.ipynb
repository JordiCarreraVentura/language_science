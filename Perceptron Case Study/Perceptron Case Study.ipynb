{
 "cells": [
  {
   "cell_type": "markdown",
   "metadata": {},
   "source": [
    "# Perceptron Case Study\n",
    "\n",
    "[Source](https://www.kdnuggets.com/2018/09/6-steps-write-machine-learning-algorithm.html)\n",
    "\n",
    "## Characteristics of the perceptron\n",
    "\n",
    "1. The single-layer perceptron is the most basic neural network.\n",
    "1. It’s typically used for binary classification problems (1 or 0, “yes” or “no”).\n",
    "1. It’s a linear classifier, so it can only really be used when there’s a linear decision boundary.\n",
    "\n",
    "## Steps\n",
    "1. Initialize the weights\n",
    "1. Multiply weights by inputs and sum them up\n",
    "1. Compare the result against the threshold to compute the output (1 or 0)\n",
    "1. Update the weights\n",
    "1. Repeat"
   ]
  },
  {
   "cell_type": "code",
   "execution_count": 37,
   "metadata": {},
   "outputs": [],
   "source": [
    "import numpy as np\n",
    "import random"
   ]
  },
  {
   "cell_type": "code",
   "execution_count": 38,
   "metadata": {},
   "outputs": [],
   "source": [
    "XY = [\n",
    "    ([0.9, 0.5], 1),\n",
    "    ([0.85, 0.22], 1),\n",
    "    ([0.17, 0.83], 0),\n",
    "    ([0.2, 0.96], 0),\n",
    "]\n"
   ]
  },
  {
   "cell_type": "code",
   "execution_count": 39,
   "metadata": {},
   "outputs": [
    {
     "name": "stdout",
     "output_type": "stream",
     "text": [
      "[0.5991806484337981, 0.9644623117412368]\n",
      "[0.9419108777118875, 0.7970697574137259]\n",
      "\n"
     ]
    }
   ],
   "source": [
    "learning_rate = 0.1\n",
    "iterations = 100\n",
    "\n",
    "W = [random.random(), random.random()]\n",
    "O = [x for x in W]\n",
    "\n",
    "def dot_prod(x, y):\n",
    "    out = []\n",
    "    for i, d in enumerate(x):\n",
    "        out.append(d * y[i])\n",
    "    return out\n",
    "\n",
    "\n",
    "i = 0\n",
    "while i < iterations:\n",
    "\n",
    "    updates = []\n",
    "    for x, y in XY:\n",
    "        _w = dot_prod(x, W)\n",
    "        corrections = [(y - prob) * learning_rate for prob in _w]\n",
    "        updates.append(corrections)\n",
    "\n",
    "    for k, dimension in enumerate(updates[0]):\n",
    "        avg_update = sum([update[k] for update in updates]) / len(updates)\n",
    "        W[k] += avg_update\n",
    "\n",
    "    i += 1\n",
    "\n",
    "print O\n",
    "print W\n",
    "print\n"
   ]
  },
  {
   "cell_type": "code",
   "execution_count": null,
   "metadata": {},
   "outputs": [],
   "source": []
  }
 ],
 "metadata": {
  "kernelspec": {
   "display_name": "Python 2",
   "language": "python",
   "name": "python2"
  },
  "language_info": {
   "codemirror_mode": {
    "name": "ipython",
    "version": 2
   },
   "file_extension": ".py",
   "mimetype": "text/x-python",
   "name": "python",
   "nbconvert_exporter": "python",
   "pygments_lexer": "ipython2",
   "version": "2.7.6"
  }
 },
 "nbformat": 4,
 "nbformat_minor": 2
}
