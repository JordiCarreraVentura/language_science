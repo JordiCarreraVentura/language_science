{
 "cells": [
  {
   "cell_type": "markdown",
   "metadata": {},
   "source": [
    "# Combinations and Permutations\n",
    "[Source](https://www.mathsisfun.com/combinatorics/combinations-permutations.html)\n",
    "\n",
    "### Combination\n",
    "When the order doesn't matter.\n",
    "> _My fruit salad is a combination of apples, grapes and bananas_ -> We don't care what order the fruits are in, they could also be _bananas, grapes and apples_ or _grapes, apples and bananas,_  it's the same fruit salad.\n",
    "\n",
    "### Permutation\n",
    "When the order **does** matter.\n",
    "\n",
    "> _The combination to the safe is 472_\n",
    "\n",
    "### Relationship between the two\n",
    "\n",
    "A **Permutation** is an **ordered Combination**. I.e., a permutation is a subtype of combination that is also **directed**."
   ]
  },
  {
   "cell_type": "code",
   "execution_count": 1,
   "metadata": {},
   "outputs": [],
   "source": [
    "paradigm = [1, 2, 3, 4, 5]\n",
    "\n",
    "from copy import deepcopy as cp"
   ]
  },
  {
   "cell_type": "markdown",
   "metadata": {},
   "source": [
    "## Permutations\n",
    "\n",
    "There are two types of permutations:\n",
    "1. with Repetition\n",
    "1. without Repetition\n",
    "\n",
    "### with Repetition\n",
    "> When a thing has _n_ different types, we have _n_ choices each time.\n",
    "\n",
    "#### Formula\n",
    "\n",
    "$n = \\text{size of the paradigm}$\n",
    "\n",
    "$r = \\text{length of the sequence of possible combinations}$\n",
    "\n",
    "$combinations = n^r$"
   ]
  },
  {
   "cell_type": "code",
   "execution_count": 2,
   "metadata": {},
   "outputs": [
    {
     "name": "stdout",
     "output_type": "stream",
     "text": [
      "125\n",
      "125\n"
     ]
    }
   ],
   "source": [
    "def permutation_with_repetition(paradigm, n):\n",
    "    combinations = [[]]\n",
    "    for _ in range(n):\n",
    "        _combinations = []\n",
    "        for c in combinations:\n",
    "            for symbol in paradigm:\n",
    "                _c = cp(c)\n",
    "                _c.append(symbol)\n",
    "                _combinations.append(_c)\n",
    "        combinations = _combinations\n",
    "    return combinations\n",
    "\n",
    "combinations = permutation_with_repetition(paradigm, 3)\n",
    "print(len(combinations))\n",
    "\n",
    "print(len(paradigm) ** 3)"
   ]
  },
  {
   "cell_type": "markdown",
   "metadata": {},
   "source": [
    "### without Repetition\n",
    "\n",
    "> We have to reduce the number of available choices each time.\n",
    "\n",
    "#### Formula\n",
    "\n",
    "The factorial function (symbol: `!`), which means to multiply a series of descending natural numbers.\n"
   ]
  },
  {
   "cell_type": "code",
   "execution_count": 3,
   "metadata": {},
   "outputs": [
    {
     "name": "stdout",
     "output_type": "stream",
     "text": [
      "3360.0\n",
      "6.0\n",
      "120\n",
      "60\n",
      "3360\n"
     ]
    }
   ],
   "source": [
    "def factorial(n):\n",
    "    curr = None\n",
    "    while n:\n",
    "        if curr == None:\n",
    "            curr = n\n",
    "        else:\n",
    "            curr *= n\n",
    "        n -= 1\n",
    "    return curr if curr != None else 1\n",
    "\n",
    "\n",
    "def estimate_permutation_without_repetition(paradigm, length=None):\n",
    "    if length == None:\n",
    "        return factorial(paradigm)\n",
    "    else:\n",
    "        return factorial(paradigm) / factorial(paradigm - length)\n",
    "\n",
    "    \n",
    "def permutation_without_repetition(paradigm, length=None, directed=True):\n",
    "    if not length:\n",
    "        length = len(paradigm)\n",
    "    combinations = [\n",
    "        (paradigm[:i] + paradigm[i + 1:], [symbol])\n",
    "        for i, symbol in enumerate(paradigm)\n",
    "    ]\n",
    "    while True:\n",
    "        _combinations = []\n",
    "        _kept = []\n",
    "        for left, c in combinations:\n",
    "            if len(c) == length:\n",
    "                _kept.append((left, c))\n",
    "                continue\n",
    "            for j, symbol in enumerate(left):\n",
    "                _left = left[:j] + left[j + 1:]\n",
    "                _c = cp(c)\n",
    "                _c.append(symbol)\n",
    "                _combinations.append((_left, _c))\n",
    "        if not _combinations:\n",
    "            break\n",
    "        combinations = _combinations + _kept\n",
    "    if directed:\n",
    "        return [c for _, c in combinations]\n",
    "    else:\n",
    "        _combinations = set([])\n",
    "        for _, c in combinations:\n",
    "            _combinations.add(tuple(sorted(c)))\n",
    "        return [list(c) for c in _combinations]\n",
    "            \n",
    "                \n",
    "\n",
    "\n",
    "print(estimate_permutation_without_repetition(16, length=3))\n",
    "print(estimate_permutation_without_repetition(3, length=3))\n",
    "print(estimate_permutation_without_repetition(len(paradigm)))\n",
    "print(len(permutation_without_repetition(paradigm, length=3)))\n",
    "print(len(permutation_without_repetition(list(range(16)), length=3)))\n",
    "# print(len(permutation_without_repetition(paradigm)))"
   ]
  },
  {
   "cell_type": "markdown",
   "metadata": {},
   "source": [
    "## Combinations\n",
    "\n",
    "### without Repetition\n",
    "\n",
    "> We have to reduce the number of available choices each time.\n",
    ">\n",
    "> The easiest way to explain it is to:\n",
    ">\n",
    "> 1. assume that the order does matter (i.e., permutations),\n",
    "> 1. then alter it so the order does **not** matter."
   ]
  },
  {
   "cell_type": "code",
   "execution_count": 4,
   "metadata": {},
   "outputs": [
    {
     "name": "stdout",
     "output_type": "stream",
     "text": [
      "560\n",
      "6\n",
      "1\n"
     ]
    }
   ],
   "source": [
    "print(len(permutation_without_repetition(list(range(16)), length=3, directed=False)))\n",
    "print(len(permutation_without_repetition([1, 2, 3], length=3, directed=True)))\n",
    "print(len(permutation_without_repetition([1, 2, 3], length=3, directed=False)))"
   ]
  },
  {
   "cell_type": "markdown",
   "metadata": {},
   "source": [
    "> The factorial function can also be used to work out how many ways _1 2 3_ could be placed in order:\n",
    ">\n",
    "> _3! = 3 × 2 × 1 = 6_"
   ]
  },
  {
   "cell_type": "code",
   "execution_count": 5,
   "metadata": {},
   "outputs": [
    {
     "name": "stdout",
     "output_type": "stream",
     "text": [
      "6\n"
     ]
    }
   ],
   "source": [
    "print(factorial(3))"
   ]
  },
  {
   "cell_type": "markdown",
   "metadata": {},
   "source": [
    "> So we adjust our permutations formula to reduce it by how many ways the objects could be in order:\n",
    "\n",
    "$$\n",
    "combinations = \\frac{n!}{(n - r)!}\\ x\\ \\frac{1}{r!}\\ =\\ \\frac{n!}{r!(n - r)!}\n",
    "$$"
   ]
  },
  {
   "cell_type": "code",
   "execution_count": 6,
   "metadata": {},
   "outputs": [],
   "source": [
    "n = 4\n",
    "r = 2"
   ]
  },
  {
   "cell_type": "markdown",
   "metadata": {},
   "source": [
    "Number of unique combinations (the same elements in any order) as estimated by the last formula:"
   ]
  },
  {
   "cell_type": "code",
   "execution_count": 7,
   "metadata": {},
   "outputs": [
    {
     "name": "stdout",
     "output_type": "stream",
     "text": [
      "6.0\n"
     ]
    }
   ],
   "source": [
    "term1 = factorial(n) / factorial(n - r)\n",
    "term2 = 1 / factorial(r)\n",
    "combinations = term1 * term2\n",
    "print(combinations)"
   ]
  },
  {
   "cell_type": "markdown",
   "metadata": {},
   "source": [
    "Number of order-sensitive combinations (above) versus order-insensitive combinations (below) as generated by the method `permutation_without_repetition` introduced above, that calculates the actual combinations:"
   ]
  },
  {
   "cell_type": "code",
   "execution_count": 8,
   "metadata": {},
   "outputs": [
    {
     "name": "stdout",
     "output_type": "stream",
     "text": [
      "12\n",
      "6\n"
     ]
    }
   ],
   "source": [
    "print(len(permutation_without_repetition(list(range(n)), length=r, directed=True)))\n",
    "print(len(permutation_without_repetition(list(range(n)), length=r, directed=False)))"
   ]
  },
  {
   "cell_type": "markdown",
   "metadata": {},
   "source": [
    "Number of unique order-insensitive combinations derived from the number of unique order-sensitive combinations generaetd by the method `permutation_without_repetition`, but now generating only the latter and then adjusting arithmetically, instead of generating the actual number of reduced combinations:"
   ]
  },
  {
   "cell_type": "code",
   "execution_count": 9,
   "metadata": {},
   "outputs": [
    {
     "name": "stdout",
     "output_type": "stream",
     "text": [
      "6.0\n"
     ]
    }
   ],
   "source": [
    "print(len(permutation_without_repetition(list(range(n)), length=r, directed=True)) / factorial(r))"
   ]
  },
  {
   "cell_type": "markdown",
   "metadata": {},
   "source": [
    "### with Repetition\n",
    "\n",
    "> Let us say there are five flavours of icecream: _banana, chocolate, lemon, strawberry_ and _vanilla._\n",
    ">\n",
    "> We can have 3 scoops. How many variations will there be?\n",
    ">\n",
    "> Let's use letters for the flavours: `{b, c, l, s, v}`. Example selections include\n",
    ">\n",
    "> `{c, c, c}` (3 scoops of _chocolate_)\n",
    ">\n",
    "> `{b, l, v}` (1 each of _banana, lemon_ and _vanilla_)\n",
    ">\n",
    "> `{b, v, v}` (1 of _banana_, 2 of _vanilla_)"
   ]
  },
  {
   "cell_type": "code",
   "execution_count": 10,
   "metadata": {},
   "outputs": [],
   "source": [
    "paradigm = ['b', 'c', 'l', 's', 'v']"
   ]
  },
  {
   "cell_type": "code",
   "execution_count": 11,
   "metadata": {},
   "outputs": [
    {
     "name": "stdout",
     "output_type": "stream",
     "text": [
      "1 ['b', 'c', 'v']\n",
      "2 ['b', 'l', 'v']\n",
      "3 ['c', 'l', 'v']\n",
      "4 ['b', 'c', 'l']\n",
      "5 ['l', 's', 'v']\n",
      "6 ['c', 's', 'v']\n",
      "7 ['b', 'c', 's']\n",
      "8 ['b', 'l', 's']\n",
      "9 ['c', 'l', 's']\n",
      "10 ['b', 's', 'v']\n"
     ]
    }
   ],
   "source": [
    "for i, c in enumerate(permutation_without_repetition(paradigm, length=3, directed=False)):\n",
    "    print(i + 1, c)"
   ]
  },
  {
   "cell_type": "code",
   "execution_count": 12,
   "metadata": {},
   "outputs": [],
   "source": [
    "    \n",
    "def permutation_without_repetition(paradigm, length=None, directed=True, repetition=True):\n",
    "    if not length:\n",
    "        length = len(paradigm)\n",
    "    \n",
    "    combinations = []\n",
    "    for l in range(1, length + 1):\n",
    "        combinations += [\n",
    "            (paradigm[:i] + paradigm[i + 1:], [symbol for _ in range(l)])\n",
    "            for i, symbol in enumerate(paradigm)\n",
    "        ]\n",
    "        if repetition == False:\n",
    "            break\n",
    "    \n",
    "    while True:\n",
    "        _combinations = []\n",
    "        _kept = []\n",
    "        for left, c in combinations:\n",
    "            if len(c) == length:\n",
    "                _kept.append((left, c))\n",
    "                continue\n",
    "            for j, symbol in enumerate(left):\n",
    "                _left = left[:j] + left[j + 1:]\n",
    "                \n",
    "                _c = cp(c)\n",
    "                _c.append(symbol)\n",
    "                _combinations.append((_left, _c))\n",
    "                \n",
    "                if repetition:\n",
    "                    __c = cp(c)\n",
    "                    __c.append(symbol)\n",
    "                    _combinations.append((_left, __c))\n",
    "                \n",
    "        if not _combinations:\n",
    "            break\n",
    "        combinations = _combinations + _kept\n",
    "    if directed:\n",
    "        return [c for _, c in combinations]\n",
    "    else:\n",
    "        _combinations = set([])\n",
    "        for _, c in combinations:\n",
    "            _combinations.add(tuple(sorted(c)))\n",
    "        return [list(c) for c in _combinations]"
   ]
  },
  {
   "cell_type": "code",
   "execution_count": 13,
   "metadata": {},
   "outputs": [
    {
     "name": "stdout",
     "output_type": "stream",
     "text": [
      "1 blv\n",
      "2 ccv\n",
      "3 bcl\n",
      "4 lsv\n",
      "5 bll\n",
      "6 bss\n",
      "7 bvv\n",
      "8 csv\n",
      "9 bbc\n",
      "10 ccs\n",
      "11 bsv\n",
      "12 bcv\n",
      "13 lls\n",
      "14 ssv\n",
      "15 vvv\n",
      "16 bbb\n",
      "17 bcs\n",
      "18 llv\n",
      "19 bls\n",
      "20 svv\n",
      "21 bbl\n",
      "22 sss\n",
      "23 lss\n",
      "24 lvv\n",
      "25 lll\n",
      "26 bbv\n",
      "27 ccc\n",
      "28 bbs\n",
      "29 cll\n",
      "30 css\n",
      "31 cvv\n",
      "32 clv\n",
      "33 bcc\n",
      "34 ccl\n",
      "35 cls\n"
     ]
    }
   ],
   "source": [
    "for i, c in enumerate(permutation_without_repetition(paradigm, directed=False, length=3, repetition=True)):\n",
    "    print(i + 1, ''.join(c))"
   ]
  },
  {
   "cell_type": "markdown",
   "metadata": {},
   "source": [
    "> So, what about our example, what is the answer?\n",
    "\n",
    "$$\n",
    "\\frac{(3 + 5 - 1)}{3!(5 - 1)!} = \\frac{7!}{3! \\times 4!} = \\frac{5040}{6 \\times 24} = 35\n",
    "$$\n",
    "\n",
    "> There are 35 ways of having 3 scoops from five flavours of icecream.\n",
    "\n",
    "Formally, we have that\n",
    "\n",
    "$$\n",
    "combinations' = \\frac{(r + n - 1)!}{r!(n - 1)!}\n",
    "$$\n",
    "\n",
    "In the formula for permutations, remember that we had \n",
    "\n",
    "$$\n",
    "combinations = \\frac{n!}{r!(n - r)!}\n",
    "$$\n",
    "\n",
    "so _combinations'_ can be derived from _combinations_ by\n",
    "- adding _r_ has both to the numerator and the denominator: given that we allow for repetition, i.e., the same symbol in all the positions in the sequence, we add the number of positions: for every symbol, we can have a sequence with that symbol in each position;\n",
    "- subtracting 1 also from both the numerator and the denominator because, when repeating, we will always consider one case fewer than the factorial implies: that in which all positions are occupied by a different symbol, which has now been excluded by the logic of the process."
   ]
  },
  {
   "cell_type": "code",
   "execution_count": 14,
   "metadata": {},
   "outputs": [
    {
     "name": "stdout",
     "output_type": "stream",
     "text": [
      "35.0\n"
     ]
    }
   ],
   "source": [
    "r = 3   # number of scoops\n",
    "\n",
    "n = len(paradigm)   # 5 -the number of flavors\n",
    "\n",
    "num = factorial(r + n - 1)\n",
    "denom = factorial(r) * factorial(n - 1)\n",
    "print(num / denom)"
   ]
  },
  {
   "cell_type": "code",
   "execution_count": null,
   "metadata": {},
   "outputs": [],
   "source": []
  }
 ],
 "metadata": {
  "kernelspec": {
   "display_name": "Python 3",
   "language": "python",
   "name": "python3"
  },
  "language_info": {
   "codemirror_mode": {
    "name": "ipython",
    "version": 3
   },
   "file_extension": ".py",
   "mimetype": "text/x-python",
   "name": "python",
   "nbconvert_exporter": "python",
   "pygments_lexer": "ipython3",
   "version": "3.7.6"
  }
 },
 "nbformat": 4,
 "nbformat_minor": 4
}
