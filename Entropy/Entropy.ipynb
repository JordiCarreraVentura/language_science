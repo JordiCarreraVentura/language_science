{
 "cells": [
  {
   "cell_type": "code",
   "execution_count": 76,
   "id": "92c10226-ddb7-444e-80a2-bd1657c169e3",
   "metadata": {
    "jupyter": {
     "source_hidden": true
    }
   },
   "outputs": [
    {
     "name": "stdout",
     "output_type": "stream",
     "text": [
      "The autoreload extension is already loaded. To reload it, use:\n",
      "  %reload_ext autoreload\n"
     ]
    }
   ],
   "source": [
    "%load_ext autoreload\n",
    "%autoreload\n",
    "    \n",
    "from math import log\n",
    "from typing import *\n",
    "\n",
    "import pandas as pd\n",
    "from IPython.display import display, Markdown"
   ]
  },
  {
   "cell_type": "code",
   "execution_count": 77,
   "id": "cbc563dc-919d-4206-a096-0d8e196a9814",
   "metadata": {
    "jupyter": {
     "source_hidden": true
    }
   },
   "outputs": [],
   "source": [
    "def entropy(ratios: List[float]) -> float:\n",
    "    information = [\n",
    "        round(log(ratio), 2)\n",
    "        for ratio in ratios\n",
    "    ]\n",
    "    information_times_ratio = [\n",
    "        round(ratio * log(ratio), 2)\n",
    "        for ratio in ratios\n",
    "    ]\n",
    "    return information, information_times_ratio, round(-sum([\n",
    "        round(ratio * log(ratio), 2)\n",
    "        for ratio in ratios\n",
    "    ]), 2)"
   ]
  },
  {
   "cell_type": "markdown",
   "id": "d0cb4605",
   "metadata": {},
   "source": [
    "# Entropy"
   ]
  },
  {
   "cell_type": "markdown",
   "id": "924f76a3-3d20-410d-bd9a-b2cd0f68109d",
   "metadata": {},
   "source": [
    "The formula of entropy is given below:"
   ]
  },
  {
   "cell_type": "markdown",
   "id": "628bc06f",
   "metadata": {},
   "source": [
    "$$Entropy(S) = - \\sum_{i=1}^{c}{p_i log_2(p_i)}$$"
   ]
  },
  {
   "cell_type": "markdown",
   "id": "47750c46-4c42-4e24-8969-debcb888c2a9",
   "metadata": {},
   "source": [
    "## Discussion\n",
    "\n",
    "1. _Is $p_i$ a probability?_\n",
    "\n",
    "   No, it is not. While it is expressed as a polarity, it is actually just a ratio and it corresponds to $$n_c / |N| = n_c / |\\forall_{c' \\in C}^{C}\\ n_{c'}|,$$ or the number of elements in each class $c$ divided over the total number of elements (for any class). Essentially, it tells us which fraction of a dataset (or subset thereof) belongs to each class.\n",
    "2. _Why do we use the **unary negation** to reverse the polarity?_\n",
    "\n",
    "   Because the logarithm inside the summation yields negative numbers, yet the entropy is defined as a positive magnitude (a concave function that we intend to maximize, insofar as we are measuring the presence of something). To get a positive measurament (corresponding to the presence of something) on the basis of negative values (typically associated with the absence of something), we need to reverse their polarity. And we cannot just add some other value to it because that would effectively cancel them out.\n",
    "4. _Why do we use the logarithm?_\n",
    "\n",
    "   It provides re-scaling of a fraction that is beyond normalization and, in that way, reinstates a sense of an absolute value. Fractions are relative and will always add up to $1.0$, which would be ambiguous between all possible distributions of the classes (all combinations of fractional numbers add up to $1.0$ when expressing probabilities or ratios).\n",
    "\n",
    "   In contrast, $log(1/2) \\approx -0.3$ and $log(1/4) \\approx -0.6$. Hence, assuming $n = |2|$ and $n = |4|$, respectively (under the uniformity assumption), the sum of their entropies is $-0.6$ and $-2.4$, despite the fact that the sum of the ratios themselves would still be $1.0$ and $1.0$, and non-differentiable. **The logarithm makes these ratios differentiable**, still as a function of their **original proportion** as ratios, while also magnifying the result for smaller ratios because, by the definition of entropy, **lower ratios represent a lower expectation** and must therefore be assigned a higher entropy. The (negative) logarithm over-represents smaller values because, for a small ratio, it is orders of magnitude greater than the ratio itself, e.g."
   ]
  },
  {
   "cell_type": "code",
   "execution_count": 78,
   "id": "9c260fba-bff9-42a3-8d98-d9b878ffd3bf",
   "metadata": {},
   "outputs": [
    {
     "name": "stdout",
     "output_type": "stream",
     "text": [
      "0.900  -0.11       -0.12\n",
      "0.100  -2.30      -23.03\n",
      "0.010  -4.61     -460.52\n",
      "0.001  -6.91    -6907.76\n"
     ]
    }
   ],
   "source": [
    "for val in [0.9, 0.1, 0.01, 0.001]:\n",
    "    print('{:<7.3f}{:<7.2f}{:>10.2f}'.format(val, log(val), log(val) / val))"
   ]
  },
  {
   "cell_type": "markdown",
   "id": "59fe41f9-6982-4615-8719-4d44dac1eb21",
   "metadata": {},
   "source": [
    "<p style=\"margin-left: 30px;\">In this respect, the logarithm provides a straightforward interpretation in terms of information theory. Refer to appendix <i>Information-theoretical Interpretation of the Logarithm</i> for an explanation.</p>\n",
    "\n",
    "4. _Why do we multiply the logarithm of $p_i$ times $p_i$ again?_\n",
    "\n",
    "   Because its innermost usage will have transformed the ratio into a measure of information which _is based_ on the original ratio (actually, information $I$ is defined precisely as $-log(p_i)$) but is **no longer reflective of its overall weight** on the original dataset. Hence, we can have classes with a very low ratio and, as a result, extremely high information, yet they are so rare that their total contribution to the entropy could still be low. The highest entropies will normally be measured over ratios that are low yet still significant (closer to the random baseline, or $1 / |C|$).\n",
    "    For example, "
   ]
  },
  {
   "cell_type": "code",
   "execution_count": 99,
   "id": "686ed2c5",
   "metadata": {
    "jupyter": {
     "source_hidden": true
    }
   },
   "outputs": [
    {
     "data": {
      "text/markdown": [
       "| Class ratios:            |   0.33 | 0.33   | 0.33                                                                |\n",
       "|:-------------------------|-------:|:-------|:--------------------------------------------------------------------|\n",
       "| information=             |  -1.11 | -1.11  | -1.11                                                               |\n",
       "| information times ratio= |  -0.37 | -0.37  | -0.37                                                               |\n",
       "| entropy=                 |   1.11 |        | -----> Maximum entropy distribution following a uniform assumption. |"
      ],
      "text/plain": [
       "<IPython.core.display.Markdown object>"
      ]
     },
     "metadata": {},
     "output_type": "display_data"
    },
    {
     "data": {
      "text/markdown": [
       "| Class ratios:            |   0.3 | 0.3   | 0.4                                                                                   |\n",
       "|:-------------------------|------:|:------|:--------------------------------------------------------------------------------------|\n",
       "| information=             | -1.2  | -1.2  | -0.92                                                                                 |\n",
       "| information times ratio= | -0.36 | -0.36 | -0.37                                                                                 |\n",
       "| entropy=                 |  1.09 |       | -----> Multiple ratios close to each other: we expect very high entropy in this case. |"
      ],
      "text/plain": [
       "<IPython.core.display.Markdown object>"
      ]
     },
     "metadata": {},
     "output_type": "display_data"
    },
    {
     "data": {
      "text/markdown": [
       "| Class ratios:            |   0.7 | 0.25   | 0.05                                                                                                       |\n",
       "|:-------------------------|------:|:-------|:-----------------------------------------------------------------------------------------------------------|\n",
       "| information=             | -0.36 | -1.39  | -3.0                                                                                                       |\n",
       "| information times ratio= | -0.25 | -0.35  | -0.15                                                                                                      |\n",
       "| entropy=                 |  0.75 |        | -----> Skewed distribution with two clear most and least frequent classes. We expect a lower entropy here. |"
      ],
      "text/plain": [
       "<IPython.core.display.Markdown object>"
      ]
     },
     "metadata": {},
     "output_type": "display_data"
    },
    {
     "data": {
      "text/markdown": [
       "| Class ratios:            |   0.9 | 0.09   | 0.01                                                                                              |\n",
       "|:-------------------------|------:|:-------|:--------------------------------------------------------------------------------------------------|\n",
       "| information=             | -0.11 | -2.41  | -4.61                                                                                             |\n",
       "| information times ratio= | -0.09 | -0.22  | -0.05                                                                                             |\n",
       "| entropy=                 |  0.36 |        | -----> An even more skewed distribution, which we expect to have the lowest entropy of all three. |"
      ],
      "text/plain": [
       "<IPython.core.display.Markdown object>"
      ]
     },
     "metadata": {},
     "output_type": "display_data"
    }
   ],
   "source": [
    "ratio_sets = [\n",
    "    ([round(1/3, 2) for _ in range(3)], 'Maximum entropy distribution following a uniform assumption.'),\n",
    "    ([0.3, 0.3, 0.4], 'Multiple ratios close to each other: we expect very high entropy in this case.'),\n",
    "    ([0.7, 0.25, 0.05], 'Skewed distribution with two clear most and least frequent classes. We expect a lower entropy here.'),\n",
    "    ([0.9, 0.09, 0.01], 'An even more skewed distribution, which we expect to have the lowest entropy of all three.')\n",
    "]\n",
    "\n",
    "for ratios, explanation in ratio_sets:\n",
    "    information, information_times_ratio, total_entropy = entropy(ratios)\n",
    "\n",
    "    schema = ['Class ratios: '] + ratios\n",
    "    row0 = ['information='] + information\n",
    "    row1 = ['information times ratio='] + information_times_ratio\n",
    "    row2 = ['entropy='] + [total_entropy] + ['' for _ in range(len(information) - 2)] + [f'-----> {explanation}']\n",
    "    \n",
    "    df = pd.DataFrame([row0, row1, row2], columns=schema)\n",
    "\n",
    "    display(Markdown(df.to_markdown(index=False)))"
   ]
  },
  {
   "cell_type": "markdown",
   "id": "c90332eb-b04c-41f6-aafe-cdf191465bb3",
   "metadata": {},
   "source": [
    "# Appendix"
   ]
  },
  {
   "cell_type": "markdown",
   "id": "56f7e673-5c2e-4f2f-8cfc-63fff48fef0c",
   "metadata": {},
   "source": [
    "## Information-theoretical Interpretation of the Logarithm\n",
    "\n",
    "<a id=\"information_theoretical_interpretation\"></a>\n",
    "\n",
    "> When working with fractions (probabilities), we want to quantify how surprising or uncertain something is.\n",
    "> The log does this because it grows slowly and fits the idea of measuring \"information in bits\":\n",
    "> \n",
    "> $$I(p)=−log_2(p)$$\n",
    "> \n",
    "> - If $p=1$ (certain), then I=0 bits (no surprise).\n",
    "> - If $p=\\frac{1}{2}$, then I=1 bit (like flipping a fair coin).\n",
    "> - If $p=\\frac{1}{4}$, then I=2 bits.\n",
    "> \n",
    "> So the log maps fractions between 0 and 1 to meaningful, additive \"information quantities.\""
   ]
  }
 ],
 "metadata": {
  "kernelspec": {
   "display_name": "Python 3 (ipykernel)",
   "language": "python",
   "name": "python3"
  },
  "language_info": {
   "codemirror_mode": {
    "name": "ipython",
    "version": 3
   },
   "file_extension": ".py",
   "mimetype": "text/x-python",
   "name": "python",
   "nbconvert_exporter": "python",
   "pygments_lexer": "ipython3",
   "version": "3.11.9"
  }
 },
 "nbformat": 4,
 "nbformat_minor": 5
}
